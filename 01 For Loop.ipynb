{
 "cells": [
  {
   "cell_type": "markdown",
   "id": "lasting-catering",
   "metadata": {},
   "source": [
    "# Sequence-based Iteration: For Loop\n",
    "---\n",
    "\n",
    "### For Loop\n",
    "\n",
    "Much like how a _while loop_ will repeat its own block of code, __For Loop__ will also repeat its own block of code.\n",
    "\n",
    "For loops don't __depend on a conditional statement being True__. For loops will repeat a finite amount of time dependent on the size/length of the __iterating sequence__.\n",
    "\n",
    "```python\n",
    "\n",
    "# For Loop Format\n",
    "\n",
    "for __iterating_variable__ in __iterating__sequence__:\n",
    "\n",
    "    your code here\n",
    "\n",
    "# end of for loop\n",
    "\n",
    "```\n",
    "\n",
    "- A for loop is started by using the keyword: ```for```\n",
    "- ```__iterating_variable__``` is a label that you create to represent the individual items in the sequence\n",
    "- No matter the iterating variable, __the code within the for loop will execute__\n",
    "- The code within the for loop executes repeatedly until the iterating variable runs out of items to represent from the sequence\n",
    "\n",
    "### What is a Sequence?\n",
    "\n",
    "__Sequence__ is a collection of items or things.\n",
    "- The sequence can be ordered(least to greatest) or unordered(shuffled)\n",
    "- These sequences will have a beginning and an end; therefore, they are finite\n",
    "- We can determine the size of the sequences\n",
    "\n",
    "##### Examples:\n",
    "- List of integers: ```[2,3,5,7,11,13]```\n",
    "- A string: ```\"Sequence\"``` is a sequence of 8 characters\n",
    "- In Python, a __data type__ that is classified as _iterable_ will be able to iterate within a for loop\n",
    "    - Examples: Lists, Strings, Tuples\n",
    "    \n",
    "### Code Example #1"
   ]
  },
  {
   "cell_type": "code",
   "execution_count": 4,
   "id": "stainless-academy",
   "metadata": {},
   "outputs": [
    {
     "name": "stdout",
     "output_type": "stream",
     "text": [
      "Current Character: H\n",
      "Current Character: e\n",
      "Current Character: l\n",
      "Current Character: l\n",
      "Current Character: o\n",
      "Current Character: !\n"
     ]
    }
   ],
   "source": [
    "# Using a for loop with a string\n",
    "# Purpose: Output individual letters of a word.\n",
    "\n",
    "word = 'Hello!'\n",
    "\n",
    "for character in word:\n",
    "    print('Current Character:', character)"
   ]
  },
  {
   "cell_type": "markdown",
   "id": "inside-fairy",
   "metadata": {},
   "source": [
    "__Explanation:__\n",
    "- The label ```character``` is used as a label to represent each single item from the iterating sequence for each iteration\n",
    "- The variable ```word``` is a string that has the characters: ```Hello!```\n",
    "- Since ```character``` represents individual items, we were able to grab the items in the sequence in order and one-by-one\n",
    "\n",
    "### Code Example #2"
   ]
  },
  {
   "cell_type": "code",
   "execution_count": 5,
   "id": "innovative-tanzania",
   "metadata": {},
   "outputs": [
    {
     "name": "stdout",
     "output_type": "stream",
     "text": [
      "Goodbye!\n",
      "Goodbye!\n",
      "Goodbye!\n",
      "Goodbye!\n",
      "Goodbye!\n",
      "Goodbye!\n"
     ]
    }
   ],
   "source": [
    "# Using a for loop, but ignoring the iterating variable\n",
    "# Purpose: Repeat a message\n",
    "\n",
    "word = 'Hello!'\n",
    "\n",
    "for character in word:\n",
    "    print('Goodbye!')"
   ]
  },
  {
   "cell_type": "markdown",
   "id": "satellite-merchandise",
   "metadata": {},
   "source": [
    "__Explanation:__\n",
    "- In Code Example 2, the iterating variable ```character``` is not used within the for loop's code block\n",
    "- The string of ```Goodbye!``` is outputted 6 times.\n",
    "- There are 6 outputs because variable: ```word``` has 6 items in the sequence"
   ]
  }
 ],
 "metadata": {
  "kernelspec": {
   "display_name": "Python 3",
   "language": "python",
   "name": "python3"
  },
  "language_info": {
   "codemirror_mode": {
    "name": "ipython",
    "version": 3
   },
   "file_extension": ".py",
   "mimetype": "text/x-python",
   "name": "python",
   "nbconvert_exporter": "python",
   "pygments_lexer": "ipython3",
   "version": "3.8.5"
  }
 },
 "nbformat": 4,
 "nbformat_minor": 5
}
