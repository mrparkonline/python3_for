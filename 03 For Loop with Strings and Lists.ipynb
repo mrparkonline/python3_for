{
 "cells": [
  {
   "cell_type": "markdown",
   "id": "obvious-meaning",
   "metadata": {},
   "source": [
    "# For Loop with Strings and Lists\n",
    "---\n",
    "\n",
    "### Index based iteration with Strings and Lists\n",
    "\n",
    "Both strings and lists are indexable, so we can access individual items by indicitaing an index with square brackets.\n",
    "\n",
    "__Examples:__"
   ]
  },
  {
   "cell_type": "code",
   "execution_count": 11,
   "id": "portuguese-fundamental",
   "metadata": {},
   "outputs": [
    {
     "name": "stdout",
     "output_type": "stream",
     "text": [
      "e\n"
     ]
    }
   ],
   "source": [
    "print('Hello'[1]) # Should output letter 'e' at index of 1"
   ]
  },
  {
   "cell_type": "code",
   "execution_count": 12,
   "id": "nuclear-generation",
   "metadata": {},
   "outputs": [
    {
     "name": "stdout",
     "output_type": "stream",
     "text": [
      "Kiwi\n"
     ]
    }
   ],
   "source": [
    "print(['Apple', 'Bananas', 'Kiwi', 'Strawberry'][2]) # Kiwi!"
   ]
  },
  {
   "cell_type": "markdown",
   "id": "loved-laundry",
   "metadata": {},
   "source": [
    "_Let's see some examples with for loops_"
   ]
  },
  {
   "cell_type": "code",
   "execution_count": 13,
   "id": "flying-adams",
   "metadata": {},
   "outputs": [
    {
     "name": "stdout",
     "output_type": "stream",
     "text": [
      "Current character at index 0 is: H\n",
      "Current character at index 1 is: e\n",
      "Current character at index 2 is: l\n",
      "Current character at index 3 is: l\n",
      "Current character at index 4 is: o\n",
      "Current character at index 5 is: ,\n",
      "Current character at index 6 is:  \n",
      "Current character at index 7 is: W\n",
      "Current character at index 8 is: o\n",
      "Current character at index 9 is: r\n",
      "Current character at index 10 is: l\n",
      "Current character at index 11 is: d\n",
      "Current character at index 12 is: !\n"
     ]
    }
   ],
   "source": [
    "# Using a for loop on a string with index\n",
    "# NOTE: programmers often use single letters when creating an iterating variable\n",
    "# I like to use i as \"index\"\n",
    "\n",
    "phrase = 'Hello, World!'\n",
    "size = len(phrase)\n",
    "\n",
    "for i in range(size):\n",
    "    print('Current character at index', i, 'is:', phrase[i])"
   ]
  },
  {
   "cell_type": "code",
   "execution_count": 14,
   "id": "reserved-colors",
   "metadata": {},
   "outputs": [
    {
     "name": "stdout",
     "output_type": "stream",
     "text": [
      "The fruits in my blender:\n",
      "    -- Apple\n",
      "    -- Banana\n",
      "    -- Kiwi\n",
      "    -- Strawberry\n"
     ]
    }
   ],
   "source": [
    "# Using for loop on a list of fruits via index\n",
    "\n",
    "fruits = ['Apple', 'Banana', 'Kiwi', 'Strawberry']\n",
    "\n",
    "print('The fruits in my blender:')\n",
    "\n",
    "for i in range(len(fruits)):\n",
    "    print('    --', fruits[i])"
   ]
  },
  {
   "cell_type": "markdown",
   "id": "steady-library",
   "metadata": {},
   "source": [
    "__NOTE:__\n",
    "- recall that ```range()``` never includes the last value\n",
    "- indexing in Python always starts at __0__(zero).\n",
    "- Therefore, a string of: ```Hello``` has its last character at index of 4, but has a length of 5\n",
    "- Same idea applies to lists as well.\n",
    "\n",
    "\n",
    "### Accessing items in a String or a List without indexing\n",
    "\n",
    "We can also just iterate through strings or lists by using a for loop without the need for the index values.\n",
    "\n",
    "__Examples:__"
   ]
  },
  {
   "cell_type": "code",
   "execution_count": 15,
   "id": "parallel-handy",
   "metadata": {},
   "outputs": [
    {
     "name": "stdout",
     "output_type": "stream",
     "text": [
      "Current Character: H\n",
      "Current Character: e\n",
      "Current Character: l\n",
      "Current Character: l\n",
      "Current Character: o\n",
      "Current Character: ,\n",
      "Current Character:  \n",
      "Current Character: W\n",
      "Current Character: o\n",
      "Current Character: r\n",
      "Current Character: l\n",
      "Current Character: d\n",
      "Current Character: !\n"
     ]
    }
   ],
   "source": [
    "# For loop on string\n",
    "\n",
    "phrase = 'Hello, World!'\n",
    "\n",
    "for character in phrase:\n",
    "    print('Current Character:', character)"
   ]
  },
  {
   "cell_type": "code",
   "execution_count": 16,
   "id": "stretch-monaco",
   "metadata": {},
   "outputs": [
    {
     "name": "stdout",
     "output_type": "stream",
     "text": [
      "Current fruit: Apple\n",
      "Current fruit: Banana\n",
      "Current fruit: Kiwi\n",
      "Current fruit: Strawberry\n"
     ]
    }
   ],
   "source": [
    "# For loop on list\n",
    "\n",
    "fruits = ['Apple', 'Banana', 'Kiwi', 'Strawberry']\n",
    "\n",
    "for fruit in fruits:\n",
    "    print('Current fruit:', fruit)"
   ]
  }
 ],
 "metadata": {
  "kernelspec": {
   "display_name": "Python 3",
   "language": "python",
   "name": "python3"
  },
  "language_info": {
   "codemirror_mode": {
    "name": "ipython",
    "version": 3
   },
   "file_extension": ".py",
   "mimetype": "text/x-python",
   "name": "python",
   "nbconvert_exporter": "python",
   "pygments_lexer": "ipython3",
   "version": "3.8.5"
  }
 },
 "nbformat": 4,
 "nbformat_minor": 5
}
