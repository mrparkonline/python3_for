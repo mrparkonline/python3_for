{
 "cells": [
  {
   "cell_type": "markdown",
   "id": "nuclear-karaoke",
   "metadata": {},
   "source": [
    "# Iterable Functions with For Loop\n",
    "---\n",
    "\n",
    "We will be exploring more functions similar to ```range()``` where they also return an iterable sequence that we can iterate through with a for loop\n",
    "\n",
    "### 1. [```sorted()```](https://docs.python.org/3/library/functions.html#sorted) function\n",
    "\n",
    "The ```sorted()``` function will return a sorted list in order from least to greatest from a sortable sequence.\n",
    "\n",
    "- For strings, they follow their [ASCII table value order](http://www.asciitable.com/).\n",
    "- For lists, it will depend on the datatype of each item. It is recommended that all the items have the same data type in the list if you are using sorted.\n",
    "- The result of a ```sorted()``` is printable as it returns a list\n",
    "\n",
    "__Examples:__"
   ]
  },
  {
   "cell_type": "code",
   "execution_count": 8,
   "id": "distinct-industry",
   "metadata": {},
   "outputs": [
    {
     "name": "stdout",
     "output_type": "stream",
     "text": [
      "Sorted Version: [' ', '!', 'C', 'S', 'c', 'c', 'e', 'e', 'e', 'i', 'm', 'n', 'o', 'p', 'r', 't', 'u']\n",
      "    -- Current item:  \n",
      "    -- Current item: !\n",
      "    -- Current item: C\n",
      "    -- Current item: S\n",
      "    -- Current item: c\n",
      "    -- Current item: c\n",
      "    -- Current item: e\n",
      "    -- Current item: e\n",
      "    -- Current item: e\n",
      "    -- Current item: i\n",
      "    -- Current item: m\n",
      "    -- Current item: n\n",
      "    -- Current item: o\n",
      "    -- Current item: p\n",
      "    -- Current item: r\n",
      "    -- Current item: t\n",
      "    -- Current item: u\n"
     ]
    }
   ],
   "source": [
    "# Using sorted on a string\n",
    "\n",
    "example = 'Computer Science!'\n",
    "example_sorted = sorted(example)\n",
    "print('Sorted Version:', example_sorted)\n",
    "\n",
    "for item in example_sorted:\n",
    "    print('    -- Current item:', item)"
   ]
  },
  {
   "cell_type": "code",
   "execution_count": 9,
   "id": "hazardous-birthday",
   "metadata": {},
   "outputs": [
    {
     "name": "stdout",
     "output_type": "stream",
     "text": [
      "Current Number: 13\n",
      "Current Number: 11\n",
      "Current Number: 7\n",
      "Current Number: 5\n",
      "Current Number: 3\n",
      "Current Number: 2\n"
     ]
    }
   ],
   "source": [
    "# Using sorted on a list of numbers but in reverse\n",
    "\n",
    "numbers = [2,3,5,7,11,13]\n",
    "\n",
    "for number in sorted(numbers, reverse=True):\n",
    "    print('Current Number:', number)\n",
    "\n",
    "# NOTE: if reverse is not a given argument, it will be assumed as False"
   ]
  },
  {
   "cell_type": "markdown",
   "id": "italian-consciousness",
   "metadata": {},
   "source": [
    "### 2. [```enumerate()```](https://docs.python.org/3/library/functions.html#enumerate) function\n",
    "\n",
    "The ```enumerate()``` function will pair the index for each item in the given sequence argument. This allow us to do a special type of for loop that involves [variable unpacking](https://www.geeksforgeeks.org/unpacking-a-tuple-in-python/).\n",
    "\n",
    "- The result of ```enumerate()``` is not printable\n",
    "\n",
    "__Examples:__"
   ]
  },
  {
   "cell_type": "code",
   "execution_count": 10,
   "id": "regular-contract",
   "metadata": {},
   "outputs": [
    {
     "name": "stdout",
     "output_type": "stream",
     "text": [
      "Current index: 0\n",
      "Current fruit: Apple\n",
      "--\n",
      "Current index: 1\n",
      "Current fruit: Banana\n",
      "--\n",
      "Current index: 2\n",
      "Current fruit: Kiwi\n",
      "--\n",
      "Current index: 3\n",
      "Current fruit: Strawberry\n"
     ]
    }
   ],
   "source": [
    "# Using enumerate() with a list of fruits\n",
    "\n",
    "fruits = ['Apple', 'Banana', 'Kiwi', 'Strawberry']\n",
    "\n",
    "for i, fruit in enumerate(fruits):\n",
    "    print('Current index:', i)\n",
    "    print('Current fruit:', fruit)\n",
    "    \n",
    "    if i != len(fruits) - 1:\n",
    "        print('--')"
   ]
  },
  {
   "cell_type": "code",
   "execution_count": 7,
   "id": "difficult-hundred",
   "metadata": {},
   "outputs": [
    {
     "name": "stdout",
     "output_type": "stream",
     "text": [
      "0 H\n",
      "1 e\n",
      "2 l\n",
      "3 l\n",
      "4 o\n"
     ]
    }
   ],
   "source": [
    "# enumerate() on a string\n",
    "\n",
    "word = 'Hello'\n",
    "\n",
    "for i, character in enumerate(word):\n",
    "    print(i, character)"
   ]
  },
  {
   "cell_type": "markdown",
   "id": "official-irrigation",
   "metadata": {},
   "source": [
    "### 3. [```reversed()```](https://docs.python.org/3/library/functions.html#reversed) function\n",
    "\n",
    "The ```reversed()``` is a simple function that reverses any given sequence.\n",
    "\n",
    "- The result of ```reversed()``` is not printable\n",
    "\n",
    "__Examples:__"
   ]
  },
  {
   "cell_type": "code",
   "execution_count": 11,
   "id": "flexible-exception",
   "metadata": {},
   "outputs": [
    {
     "name": "stdout",
     "output_type": "stream",
     "text": [
      "Current fruit: Strawberry\n",
      "Current fruit: Kiwi\n",
      "Current fruit: Banana\n",
      "Current fruit: Apple\n"
     ]
    }
   ],
   "source": [
    "# Using reversed() with a list of fruits\n",
    "\n",
    "fruits = ['Apple', 'Banana', 'Kiwi', 'Strawberry']\n",
    "\n",
    "for fruit in reversed(fruits):\n",
    "    print('Current fruit:', fruit)\n"
   ]
  },
  {
   "cell_type": "code",
   "execution_count": 12,
   "id": "political-firewall",
   "metadata": {},
   "outputs": [
    {
     "name": "stdout",
     "output_type": "stream",
     "text": [
      "?\n",
      "d\n",
      "o\n",
      "G\n",
      " \n",
      "e\n",
      "e\n",
      "s\n",
      " \n",
      "e\n",
      "s\n",
      "e\n",
      "e\n",
      "g\n",
      " \n",
      "o\n",
      "D\n"
     ]
    }
   ],
   "source": [
    "# Using reversed() on a string\n",
    "\n",
    "word = 'Do geese see God?'\n",
    "\n",
    "for character in reversed(word):\n",
    "    print(character)"
   ]
  }
 ],
 "metadata": {
  "kernelspec": {
   "display_name": "Python 3",
   "language": "python",
   "name": "python3"
  },
  "language_info": {
   "codemirror_mode": {
    "name": "ipython",
    "version": 3
   },
   "file_extension": ".py",
   "mimetype": "text/x-python",
   "name": "python",
   "nbconvert_exporter": "python",
   "pygments_lexer": "ipython3",
   "version": "3.8.5"
  }
 },
 "nbformat": 4,
 "nbformat_minor": 5
}
