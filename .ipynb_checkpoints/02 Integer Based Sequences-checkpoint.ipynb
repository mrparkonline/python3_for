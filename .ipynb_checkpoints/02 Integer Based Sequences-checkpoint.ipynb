{
 "cells": [
  {
   "cell_type": "markdown",
   "id": "occasional-cylinder",
   "metadata": {},
   "source": [
    "# Integer Based Sequences w/ For Loops\n",
    "---\n",
    "\n",
    "With studying Computer Science, we can use a lot of integers. By using ```range()``` function along with a ```for loop```, we can start to analyze integer based sequences.\n",
    "\n",
    "### ```range()``` function\n",
    "\n",
    "The ```range()``` function can take 3 different arguments and it must have atleast __1 argument__.\n",
    "\n",
    "The ```range()``` function is a function that generates an _iterable_ sequence of integers in an arithmetic progression.\n",
    "\n",
    "__IMPORTANT NOTE:__ the result of a ```range()``` function is not printable by itself. It must be converted to string or a list if you want to see the __entire sequence__.\n",
    "\n",
    "__Different Behaviours of:__ ```range()```\n",
    "\n",
    "_NOTE: ```[:``` means inclusive, ```(:``` means exclusive_ Read more at this [link](http://zonalandeducation.com/mmts/miscellaneousMath/intervalNotation/intervalNotation.html).\n",
    "\n",
    "1. ```range(n)``` returns a sequence of ```[0,n)```\n",
    "2. ```range(a,b)``` returns a sequence of ```[a,b)```; if a == b, it is an empty sequence\n",
    "3. ```range(start, end, interval_value)``` returns a sequence of ```[start,end)```, but the sequence will approach the end value by adding each step with the interval value. if the ```interval_value``` is not specified, it is assumed to be 1.\n",
    "\n",
    "_NOTE: ```range()``` never includes the last/ending value._\n",
    "\n",
    "__Examples of range()__\n",
    "```\n",
    "\n",
    "range(10) :: contains 0, 1, 2, 3, 4, 5, 6, 7, 8, 9\n",
    "\n",
    "range(10,21) :: contains 10, 11, 12, 13, 14, 15, 16, 17, 18, 19, 20\n",
    "\n",
    "range(2, 20, 4) :: contains 2, 6, 10, 14, 18\n",
    "\n",
    "range(100, 0, -10) :: contains 100, 90, 80, 70, 60, 50, 40, 30, 20, 10\n",
    "\n",
    "range(-10, -15, -1) :: contains -10, -11, -12, -13, -14\n",
    "\n",
    "range(-5, 6) :: contains -5, -4, -3, -2, -1, 0, 1, 2, 3, 4, 5\n",
    "```\n",
    "\n",
    "### For Loops with ```range()```\n",
    "\n",
    "Since ```range()``` returns an iterable sequence, we can look through each individual values in it with a ```for loop```."
   ]
  },
  {
   "cell_type": "code",
   "execution_count": 5,
   "id": "fossil-south",
   "metadata": {},
   "outputs": [
    {
     "name": "stdout",
     "output_type": "stream",
     "text": [
      "Current Number: 0\n",
      "Current Number: 1\n",
      "Current Number: 2\n",
      "Current Number: 3\n",
      "Current Number: 4\n",
      "Current Number: 5\n",
      "Current Number: 6\n",
      "Current Number: 7\n",
      "Current Number: 8\n",
      "Current Number: 9\n"
     ]
    }
   ],
   "source": [
    "# Example 1\n",
    "# For Loops with range()\n",
    "\n",
    "for num in range(10):\n",
    "    print('Current Number:', num)\n",
    "\n",
    "# Examine that the iterating variable: num is going to represent each number\n",
    "# in the sequence in order for each iteration of the for loop"
   ]
  },
  {
   "cell_type": "code",
   "execution_count": 6,
   "id": "caring-yahoo",
   "metadata": {},
   "outputs": [
    {
     "name": "stdout",
     "output_type": "stream",
     "text": [
      "Negative values: -5\n",
      "Negative values: -4\n",
      "Negative values: -3\n",
      "Negative values: -2\n",
      "Negative values: -1\n"
     ]
    }
   ],
   "source": [
    "# Example 2\n",
    "# For Loops with range()\n",
    "\n",
    "for negatives in range(-5,0):\n",
    "    print('Negative values:', negatives)"
   ]
  },
  {
   "cell_type": "code",
   "execution_count": 7,
   "id": "streaming-outdoors",
   "metadata": {},
   "outputs": [
    {
     "name": "stdout",
     "output_type": "stream",
     "text": [
      "1 is a factor of 12\n",
      "2 is a factor of 12\n",
      "3 is a factor of 12\n",
      "4 is a factor of 12\n",
      "6 is a factor of 12\n",
      "12 is a factor of 12\n"
     ]
    }
   ],
   "source": [
    "# # Example 3\n",
    "# Finding the factors a number\n",
    "\n",
    "target_value = 12\n",
    "\n",
    "# Notice that we increase our end value of our range to include our target_value\n",
    "for divider in range(1, target_value+1):\n",
    "    if target_value % divider == 0:\n",
    "        # found a factor\n",
    "        print(divider, 'is a factor of', target_value)"
   ]
  }
 ],
 "metadata": {
  "kernelspec": {
   "display_name": "Python 3",
   "language": "python",
   "name": "python3"
  },
  "language_info": {
   "codemirror_mode": {
    "name": "ipython",
    "version": 3
   },
   "file_extension": ".py",
   "mimetype": "text/x-python",
   "name": "python",
   "nbconvert_exporter": "python",
   "pygments_lexer": "ipython3",
   "version": "3.8.5"
  }
 },
 "nbformat": 4,
 "nbformat_minor": 5
}
